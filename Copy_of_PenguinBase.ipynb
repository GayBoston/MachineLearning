{
  "nbformat": 4,
  "nbformat_minor": 0,
  "metadata": {
    "colab": {
      "provenance": [],
      "include_colab_link": true
    },
    "kernelspec": {
      "name": "python3",
      "display_name": "Python 3"
    },
    "language_info": {
      "name": "python"
    }
  },
  "cells": [
    {
      "cell_type": "markdown",
      "metadata": {
        "id": "view-in-github",
        "colab_type": "text"
      },
      "source": [
        "<a href=\"https://colab.research.google.com/github/GayBoston/MachineLearning/blob/main/Copy_of_PenguinBase.ipynb\" target=\"_parent\"><img src=\"https://colab.research.google.com/assets/colab-badge.svg\" alt=\"Open In Colab\"/></a>"
      ]
    },
    {
      "cell_type": "code",
      "execution_count": null,
      "metadata": {
        "id": "8oyNT2To8Zia",
        "colab": {
          "base_uri": "https://localhost:8080/"
        },
        "outputId": "0dc94ec6-b082-4a9b-9c83-076ca1963fff"
      },
      "outputs": [
        {
          "output_type": "stream",
          "name": "stdout",
          "text": [
            "[2 2 2 2 2 2 2 2 2 2 2 2 2 2 2 2 2 2 2 2 0 0 0 0 0 0 0 0 0 0 1 1 1 1 1 1 1\n",
            " 1 1 1 1 1 1 1 1 1 1 1 1 1 0 0 0 0 0 0 0 0 0 0 0 0 0 0 0 0 0 0 2 2 2 2 2 2\n",
            " 2 2 2 2 2 2 2 2 2 2 1 1 1 1 1 1 1 1 1 1 1 1 1 1 1 1 0 0 0 0 0 0 0 0 0 0 0\n",
            " 0 0 0 0 0 2 2 2 2 2 2 2 2 2 2 2 2 2 2 2 2 1 1 1 1 1 1 1 1 1 1 1 1 1 1 1 1\n",
            " 1 1 1 1 0 0 0 0 0 0 0 0 0 0 0 0 0 0 0 0 0 0 0 0 0 0 0 0 0 0 0 0 0 0 0 0 0\n",
            " 0 0 0 0 0 0 0 0 0 0 0 0 0 0 0 0 0 0 0 0 0 0 0 0 0 0 0 0 0 0 0 0 0 0 0 0 0\n",
            " 0 0 0 0 0 0 0 0 0 0 0 0 0 0 0 0 0 0 0 0 0 0 0 0 0 0 0 0 0 0 0 0 0 0 0 0 0\n",
            " 0 0 0 0 0 0 0 0 0 0 0 0 0 0 0 0 0 1 1 1 1 1 1 1 1 1 1 1 1 1 1 1 1 1 1 1 1\n",
            " 1 1 1 1 1 1 1 1 1 1 1 1 1 1 1 1 1 1 1 1 1 1 1 1 1 1 1 1 1 1 1 1 1 1 1 1 1\n",
            " 1 1 1 1 1 1 1 1 1 1 1]\n"
          ]
        }
      ],
      "source": [
        "\n",
        "import requests\n",
        "import numpy as np\n",
        "import pandas as pd\n",
        "\n",
        "import matplotlib.pyplot as plt\n",
        "from sklearn.linear_model import LogisticRegression\n",
        "from sklearn import datasets\n",
        "from sklearn.inspection import DecisionBoundaryDisplay\n",
        "from sklearn.model_selection import train_test_split\n",
        "import sklearn.metrics as metrics\n",
        "# from sklearn.metrics import confusion_matrix\n",
        "\n",
        "\n",
        "pengUrl = \"https://raw.githubusercontent.com/allisonhorst/palmerpenguins/main/inst/extdata/penguins.csv\"\n",
        "\n",
        "#pengContent = requests.get(pengUrl).content\n",
        "\n",
        "pengData = pd.read_csv(pengUrl, header=0)\n",
        "\n",
        "\n",
        "species = pengData['species'].values\n",
        "island = pengData['island'].values\n",
        "billLengthMM = pengData['bill_length_mm'].values\n",
        "billDepthMM = pengData['bill_depth_mm'].values\n",
        "flipperLengthMM = pengData['flipper_length_mm'].values\n",
        "bodyMassG = pengData['body_mass_g'].values\n",
        "\n",
        "__, islands = np.unique(island, return_inverse=True)\n",
        "print(islands)\n"
      ]
    },
    {
      "cell_type": "code",
      "source": [
        "maskOne = np.isnan(billLengthMM)\n",
        "maskTwo = np.isnan(flipperLengthMM)\n",
        "maskThree = np.isnan(billDepthMM)\n",
        "maskFour = np.isnan(bodyMassG)\n",
        "maskFive = np.isnan(islands)\n",
        "X = np.column_stack((billLengthMM[~maskOne & ~maskTwo & ~maskThree & ~maskFour & ~maskFive], flipperLengthMM[~maskOne & ~maskTwo & ~maskThree & ~maskFour & ~maskFive], billDepthMM[~maskOne & ~maskTwo & ~maskThree & ~maskFour & ~maskFive], bodyMassG[~maskOne & ~maskTwo & ~maskThree & ~maskFour & ~maskFive], islands[~maskOne & ~maskTwo & ~maskThree & ~maskFour & ~maskFive]))\n",
        "# print(X)\n",
        "print(X.ndim)\n",
        "\n",
        "Y = species[~maskOne & ~maskTwo & ~maskThree & ~maskFour & ~maskFive]\n",
        "Y = np.where(Y == \"Adelie\", 0, np.where(Y == \"Gentoo\", 1, 2))\n",
        "\n",
        "X_train, X_test, Y_train, Y_test = train_test_split(X, Y, test_size=0.40, random_state=42)\n",
        "# print(Y)"
      ],
      "metadata": {
        "colab": {
          "base_uri": "https://localhost:8080/"
        },
        "id": "s5_vwB70b8FW",
        "outputId": "abfc7f0d-3985-4799-e926-1cf24dc54b60"
      },
      "execution_count": null,
      "outputs": [
        {
          "output_type": "stream",
          "name": "stdout",
          "text": [
            "2\n"
          ]
        }
      ]
    },
    {
      "cell_type": "code",
      "source": [
        "# Create an instance of Logistic Regression Classifier and fit the data.\n",
        "logreg = LogisticRegression(solver='newton-cg', C=1e5)\n",
        "logreg.fit(X_train, Y_train)"
      ],
      "metadata": {
        "colab": {
          "base_uri": "https://localhost:8080/",
          "height": 109
        },
        "id": "9EDkIO5Jak7V",
        "outputId": "91c8aa98-c9c8-46cb-87df-cf01fefb93b4"
      },
      "execution_count": null,
      "outputs": [
        {
          "output_type": "stream",
          "name": "stderr",
          "text": [
            "/usr/local/lib/python3.9/dist-packages/sklearn/utils/optimize.py:210: ConvergenceWarning: newton-cg failed to converge. Increase the number of iterations.\n",
            "  warnings.warn(\n"
          ]
        },
        {
          "output_type": "execute_result",
          "data": {
            "text/plain": [
              "LogisticRegression(C=100000.0, solver='newton-cg')"
            ],
            "text/html": [
              "<style>#sk-container-id-17 {color: black;background-color: white;}#sk-container-id-17 pre{padding: 0;}#sk-container-id-17 div.sk-toggleable {background-color: white;}#sk-container-id-17 label.sk-toggleable__label {cursor: pointer;display: block;width: 100%;margin-bottom: 0;padding: 0.3em;box-sizing: border-box;text-align: center;}#sk-container-id-17 label.sk-toggleable__label-arrow:before {content: \"▸\";float: left;margin-right: 0.25em;color: #696969;}#sk-container-id-17 label.sk-toggleable__label-arrow:hover:before {color: black;}#sk-container-id-17 div.sk-estimator:hover label.sk-toggleable__label-arrow:before {color: black;}#sk-container-id-17 div.sk-toggleable__content {max-height: 0;max-width: 0;overflow: hidden;text-align: left;background-color: #f0f8ff;}#sk-container-id-17 div.sk-toggleable__content pre {margin: 0.2em;color: black;border-radius: 0.25em;background-color: #f0f8ff;}#sk-container-id-17 input.sk-toggleable__control:checked~div.sk-toggleable__content {max-height: 200px;max-width: 100%;overflow: auto;}#sk-container-id-17 input.sk-toggleable__control:checked~label.sk-toggleable__label-arrow:before {content: \"▾\";}#sk-container-id-17 div.sk-estimator input.sk-toggleable__control:checked~label.sk-toggleable__label {background-color: #d4ebff;}#sk-container-id-17 div.sk-label input.sk-toggleable__control:checked~label.sk-toggleable__label {background-color: #d4ebff;}#sk-container-id-17 input.sk-hidden--visually {border: 0;clip: rect(1px 1px 1px 1px);clip: rect(1px, 1px, 1px, 1px);height: 1px;margin: -1px;overflow: hidden;padding: 0;position: absolute;width: 1px;}#sk-container-id-17 div.sk-estimator {font-family: monospace;background-color: #f0f8ff;border: 1px dotted black;border-radius: 0.25em;box-sizing: border-box;margin-bottom: 0.5em;}#sk-container-id-17 div.sk-estimator:hover {background-color: #d4ebff;}#sk-container-id-17 div.sk-parallel-item::after {content: \"\";width: 100%;border-bottom: 1px solid gray;flex-grow: 1;}#sk-container-id-17 div.sk-label:hover label.sk-toggleable__label {background-color: #d4ebff;}#sk-container-id-17 div.sk-serial::before {content: \"\";position: absolute;border-left: 1px solid gray;box-sizing: border-box;top: 0;bottom: 0;left: 50%;z-index: 0;}#sk-container-id-17 div.sk-serial {display: flex;flex-direction: column;align-items: center;background-color: white;padding-right: 0.2em;padding-left: 0.2em;position: relative;}#sk-container-id-17 div.sk-item {position: relative;z-index: 1;}#sk-container-id-17 div.sk-parallel {display: flex;align-items: stretch;justify-content: center;background-color: white;position: relative;}#sk-container-id-17 div.sk-item::before, #sk-container-id-17 div.sk-parallel-item::before {content: \"\";position: absolute;border-left: 1px solid gray;box-sizing: border-box;top: 0;bottom: 0;left: 50%;z-index: -1;}#sk-container-id-17 div.sk-parallel-item {display: flex;flex-direction: column;z-index: 1;position: relative;background-color: white;}#sk-container-id-17 div.sk-parallel-item:first-child::after {align-self: flex-end;width: 50%;}#sk-container-id-17 div.sk-parallel-item:last-child::after {align-self: flex-start;width: 50%;}#sk-container-id-17 div.sk-parallel-item:only-child::after {width: 0;}#sk-container-id-17 div.sk-dashed-wrapped {border: 1px dashed gray;margin: 0 0.4em 0.5em 0.4em;box-sizing: border-box;padding-bottom: 0.4em;background-color: white;}#sk-container-id-17 div.sk-label label {font-family: monospace;font-weight: bold;display: inline-block;line-height: 1.2em;}#sk-container-id-17 div.sk-label-container {text-align: center;}#sk-container-id-17 div.sk-container {/* jupyter's `normalize.less` sets `[hidden] { display: none; }` but bootstrap.min.css set `[hidden] { display: none !important; }` so we also need the `!important` here to be able to override the default hidden behavior on the sphinx rendered scikit-learn.org. See: https://github.com/scikit-learn/scikit-learn/issues/21755 */display: inline-block !important;position: relative;}#sk-container-id-17 div.sk-text-repr-fallback {display: none;}</style><div id=\"sk-container-id-17\" class=\"sk-top-container\"><div class=\"sk-text-repr-fallback\"><pre>LogisticRegression(C=100000.0, solver=&#x27;newton-cg&#x27;)</pre><b>In a Jupyter environment, please rerun this cell to show the HTML representation or trust the notebook. <br />On GitHub, the HTML representation is unable to render, please try loading this page with nbviewer.org.</b></div><div class=\"sk-container\" hidden><div class=\"sk-item\"><div class=\"sk-estimator sk-toggleable\"><input class=\"sk-toggleable__control sk-hidden--visually\" id=\"sk-estimator-id-17\" type=\"checkbox\" checked><label for=\"sk-estimator-id-17\" class=\"sk-toggleable__label sk-toggleable__label-arrow\">LogisticRegression</label><div class=\"sk-toggleable__content\"><pre>LogisticRegression(C=100000.0, solver=&#x27;newton-cg&#x27;)</pre></div></div></div></div></div>"
            ]
          },
          "metadata": {},
          "execution_count": 87
        }
      ]
    },
    {
      "cell_type": "code",
      "source": [
        "# _, ax = plt.subplots(figsize=(4, 3))\n",
        "# DecisionBoundaryDisplay.from_estimator(\n",
        "#     logreg,\n",
        "#     X,\n",
        "#     cmap=plt.cm.Paired,\n",
        "#     ax=ax,\n",
        "#     response_method=\"predict\",\n",
        "#     plot_method=\"pcolormesh\",\n",
        "#     shading=\"auto\",\n",
        "#     xlabel=\"Sepal length\",\n",
        "#     ylabel=\"Sepal width\",\n",
        "#     eps=0.5,\n",
        "# )\n",
        "\n",
        "# # Plot also the training points\n",
        "# plt.scatter(X_train[:, 0], X_train[:, 1], c=Y_train, edgecolors=\"k\", cmap=plt.cm.Paired)\n",
        "\n",
        "\n",
        "# plt.xticks(())\n",
        "# plt.yticks(())"
      ],
      "metadata": {
        "id": "ygWxMuw9X4mA"
      },
      "execution_count": null,
      "outputs": []
    },
    {
      "cell_type": "code",
      "source": [
        "def confuse(pred, actual, confusion):\n",
        "  for pre, act in zip(pred, actual):\n",
        "    confusion[act][pre] += 1\n",
        "  # print(confusion)\n",
        "\n",
        "def confPct(confusion):\n",
        "  return ((confusion * 100) / (np.sum(confusion))).round(2)\n",
        "\n",
        "def pctCorrect(pct):\n",
        "  return pct[0][0]+pct[1][1] + pct[2][2]"
      ],
      "metadata": {
        "id": "3uv2skYDYipO"
      },
      "execution_count": null,
      "outputs": []
    },
    {
      "cell_type": "code",
      "source": [
        "conf = np.zeros((3,3))\n",
        "confuse(logreg.predict(X_test), Y_test, conf)\n",
        "print(\"   0  1  2\")\n",
        "print('0',conf[0])\n",
        "print('1',conf[1])\n",
        "print('2',conf[2])\n",
        "\n",
        "pct = confPct(conf)\n",
        "# print(pct)\n",
        "# print(pctCorrect(pct))\n",
        "\n",
        "print(metrics.accuracy_score(Y_test, logreg.predict(X_test)))\n",
        "print(metrics.precision_score(Y_test, logreg.predict(X_test), average='macro'))\n",
        "print(metrics.recall_score(Y_test, logreg.predict(X_test), average='macro'))\n",
        "\n",
        "\n",
        "print(metrics.matthews_corrcoef(Y_test, logreg.predict(X_test)))\n"
      ],
      "metadata": {
        "colab": {
          "base_uri": "https://localhost:8080/"
        },
        "id": "wDiqJKUj2qvz",
        "outputId": "a3005b22-830c-4115-fd99-f5f09b7ebb31"
      },
      "execution_count": null,
      "outputs": [
        {
          "output_type": "stream",
          "name": "stdout",
          "text": [
            "   0  1  2\n",
            "0 [64.  0.  0.]\n",
            "1 [ 0. 48.  0.]\n",
            "2 [ 0.  0. 25.]\n",
            "1.0\n",
            "1.0\n",
            "1.0\n",
            "1.0\n"
          ]
        }
      ]
    }
  ]
}